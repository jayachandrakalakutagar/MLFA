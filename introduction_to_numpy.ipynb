{
 "cells": [
  {
   "cell_type": "markdown",
   "id": "9ae236b1",
   "metadata": {},
   "source": [
    "# introduction to numpy"
   ]
  },
  {
   "cell_type": "code",
   "execution_count": 1,
   "id": "caa1a85d",
   "metadata": {},
   "outputs": [],
   "source": [
    "import numpy as np"
   ]
  },
  {
   "cell_type": "code",
   "execution_count": 2,
   "id": "306934d0",
   "metadata": {},
   "outputs": [
    {
     "name": "stdout",
     "output_type": "stream",
     "text": [
      "1.20.3\n"
     ]
    }
   ],
   "source": [
    "print(np.__version__)"
   ]
  },
  {
   "cell_type": "code",
   "execution_count": 4,
   "id": "dd529b6a",
   "metadata": {},
   "outputs": [
    {
     "name": "stdout",
     "output_type": "stream",
     "text": [
      "12\n",
      "---------\n",
      "[1 2 3]\n",
      "---------\n",
      "[[1 2 3 4]\n",
      " [5 6 7 8]]\n"
     ]
    }
   ],
   "source": [
    "# creating 0,1 and 2 dimensional array\n",
    "\n",
    "#0\n",
    "zero=np.array(12.3,dtype='i')\n",
    "print(zero)\n",
    "\n",
    "#1\n",
    "one=np.array([1,2,3])\n",
    "print(\"---------\")\n",
    "print(one)\n",
    "\n",
    "#2\n",
    "\n",
    "two=np.array([[1,2,3,4],[5,6,7,8]])\n",
    "print(\"---------\")\n",
    "print(two)"
   ]
  },
  {
   "cell_type": "code",
   "execution_count": 5,
   "id": "6de861df",
   "metadata": {},
   "outputs": [
    {
     "name": "stdout",
     "output_type": "stream",
     "text": [
      "7\n"
     ]
    }
   ],
   "source": [
    "#accessing array\n",
    "#two access the 3rd element of second row that is seven \n",
    "print(two[1,2])"
   ]
  },
  {
   "cell_type": "code",
   "execution_count": 6,
   "id": "c47a401f",
   "metadata": {},
   "outputs": [
    {
     "name": "stdout",
     "output_type": "stream",
     "text": [
      "2\n"
     ]
    }
   ],
   "source": [
    "print(two.ndim)"
   ]
  },
  {
   "cell_type": "code",
   "execution_count": 15,
   "id": "8da3d1e4",
   "metadata": {},
   "outputs": [
    {
     "name": "stdout",
     "output_type": "stream",
     "text": [
      "[ 1  2  3 45  6]\n"
     ]
    }
   ],
   "source": [
    "#converting a array into x dimension\n",
    "\n",
    "x=np.array([1,2,3,45,6],ndmin=0)\n",
    "print(x)"
   ]
  },
  {
   "cell_type": "code",
   "execution_count": 14,
   "id": "13dc3db6",
   "metadata": {},
   "outputs": [
    {
     "name": "stdout",
     "output_type": "stream",
     "text": [
      "[1 2 3 4]\n"
     ]
    }
   ],
   "source": [
    "x=np.array([1,2,3,4],ndmin=-1)\n",
    "print(x)"
   ]
  },
  {
   "cell_type": "code",
   "execution_count": 17,
   "id": "647e68c8",
   "metadata": {},
   "outputs": [
    {
     "name": "stdout",
     "output_type": "stream",
     "text": [
      "[[2 3]\n",
      " [4 5]\n",
      " [6 7]]\n"
     ]
    }
   ],
   "source": [
    "#slicing an array\n",
    "\n",
    "x=np.array([[1,2,3],[3,4,5],[5,6,7]])\n",
    "\n",
    "#this is a 3*3 matrix\n",
    "#to access last two columns\n",
    "\n",
    "print(x[:,1:])"
   ]
  },
  {
   "cell_type": "code",
   "execution_count": 19,
   "id": "32198d78",
   "metadata": {},
   "outputs": [
    {
     "name": "stdout",
     "output_type": "stream",
     "text": [
      "[[3 4 5]\n",
      " [5 6 7]]\n"
     ]
    }
   ],
   "source": [
    "#to access last two rows\n",
    "print(x[1: , :])"
   ]
  },
  {
   "cell_type": "code",
   "execution_count": 20,
   "id": "e119b33f",
   "metadata": {},
   "outputs": [
    {
     "name": "stdout",
     "output_type": "stream",
     "text": [
      "[2 4 6]\n"
     ]
    }
   ],
   "source": [
    "#to access middle columns\n",
    "\n",
    "print(x[:,1])"
   ]
  },
  {
   "cell_type": "code",
   "execution_count": 21,
   "id": "4c92f3d2",
   "metadata": {},
   "outputs": [
    {
     "name": "stdout",
     "output_type": "stream",
     "text": [
      "[2 4 6 8]\n"
     ]
    }
   ],
   "source": [
    "# we can also jmp by taking some steps\n",
    "\n",
    "#for eg\n",
    "x=np.array([1,2,3,4,5,6,7,8,9])\n",
    "\n",
    "print(x[1::2])\n",
    "\n",
    "#notw , here we went from 2 index to end by taking two steps at a time "
   ]
  },
  {
   "cell_type": "markdown",
   "id": "c53e8ae7",
   "metadata": {},
   "source": [
    "# Numpy datatypes"
   ]
  },
  {
   "cell_type": "code",
   "execution_count": 23,
   "id": "2d2e71ef",
   "metadata": {},
   "outputs": [
    {
     "name": "stdout",
     "output_type": "stream",
     "text": [
      "int32\n"
     ]
    }
   ],
   "source": [
    "a=np.array([1,4,6,4,76,4,7])\n",
    "\n",
    "print(a.dtype)"
   ]
  },
  {
   "cell_type": "code",
   "execution_count": 26,
   "id": "69997a3b",
   "metadata": {},
   "outputs": [
    {
     "name": "stdout",
     "output_type": "stream",
     "text": [
      "float32\n"
     ]
    }
   ],
   "source": [
    "x=a.astype(\"f\")\n",
    "print(x.dtype)"
   ]
  },
  {
   "cell_type": "code",
   "execution_count": 27,
   "id": "85336211",
   "metadata": {},
   "outputs": [
    {
     "name": "stdout",
     "output_type": "stream",
     "text": [
      "[23  4  6  4 76  4  7]\n",
      "[ 1  4  6  4 76  4  7]\n"
     ]
    }
   ],
   "source": [
    "#copying array\n",
    "x=a.copy()\n",
    "x[0]=23\n",
    "print(x)\n",
    "print(a)"
   ]
  },
  {
   "cell_type": "code",
   "execution_count": 28,
   "id": "0522bf3a",
   "metadata": {},
   "outputs": [
    {
     "name": "stdout",
     "output_type": "stream",
     "text": [
      "[23  4  6  4 76  4  7]\n",
      "[23  4  6  4 76  4  7]\n"
     ]
    }
   ],
   "source": [
    "# view function\n",
    "\n",
    "x=a.view()\n",
    "x[0]=23\n",
    "print(x)\n",
    "print(a)\n",
    "\n",
    "'''note the difference between this cells output\n",
    "and the last cells''' "
   ]
  },
  {
   "cell_type": "code",
   "execution_count": 33,
   "id": "db1ca8c5",
   "metadata": {},
   "outputs": [
    {
     "name": "stdout",
     "output_type": "stream",
     "text": [
      "(4,)\n",
      "-----------\n",
      "[1 list([[1, 2, 3]]) list([[4, 5, 6]]) 7]\n"
     ]
    },
    {
     "name": "stderr",
     "output_type": "stream",
     "text": [
      "C:\\Users\\JAYACH~1\\AppData\\Local\\Temp/ipykernel_17972/3126798860.py:3: VisibleDeprecationWarning: Creating an ndarray from ragged nested sequences (which is a list-or-tuple of lists-or-tuples-or ndarrays with different lengths or shapes) is deprecated. If you meant to do this, you must specify 'dtype=object' when creating the ndarray.\n",
      "  b=np.array([1,[[1,2,3]],[[4,5,6]],7])\n"
     ]
    }
   ],
   "source": [
    "#getting to know the shape of the array\n",
    "\n",
    "b=np.array([1,[[1,2,3]],[[4,5,6]],7])\n",
    "print(b.shape)\n",
    "print(\"-----------\")\n",
    "print(b)"
   ]
  },
  {
   "cell_type": "code",
   "execution_count": 34,
   "id": "9ee1d0c5",
   "metadata": {},
   "outputs": [
    {
     "name": "stdout",
     "output_type": "stream",
     "text": [
      "[1 2 4 7]\n",
      "(4,)\n"
     ]
    }
   ],
   "source": [
    "b[1]=2\n",
    "b[2]=4\n",
    "print(b)\n",
    "print(b.shape)"
   ]
  },
  {
   "cell_type": "code",
   "execution_count": 37,
   "id": "f6d65012",
   "metadata": {},
   "outputs": [
    {
     "name": "stdout",
     "output_type": "stream",
     "text": [
      "(2, 3)\n",
      "(6,)\n",
      "(6, 1)\n"
     ]
    }
   ],
   "source": [
    "#reshaping array\n",
    "\n",
    "b=np.array([[1,2,3],[4,5,6]])\n",
    "print(b.shape)\n",
    "b=b.reshape(-1)\n",
    "print(b.shape)\n",
    "b=b.reshape((6,1))\n",
    "print(b.shape)"
   ]
  },
  {
   "cell_type": "code",
   "execution_count": 39,
   "id": "394f5305",
   "metadata": {},
   "outputs": [
    {
     "name": "stdout",
     "output_type": "stream",
     "text": [
      "(0, 0) 1\n",
      "(1, 0) 2\n",
      "(2, 0) 3\n",
      "(3, 0) 4\n",
      "(4, 0) 5\n",
      "(5, 0) 6\n"
     ]
    }
   ],
   "source": [
    "# ndenumerate function\n",
    "\n",
    "for idx,i in np.ndenumerate(b):\n",
    "    \n",
    "    print(idx,i)\n",
    "    \n",
    "#here idx would be just like the location(coordinates of i) of i"
   ]
  },
  {
   "cell_type": "code",
   "execution_count": 45,
   "id": "c370fea4",
   "metadata": {},
   "outputs": [
    {
     "name": "stdout",
     "output_type": "stream",
     "text": [
      "[1 2 3 7 8 9]\n",
      "[[4 5 6]\n",
      " [1 2 3]\n",
      " [7 8 9]]\n"
     ]
    }
   ],
   "source": [
    "# joining arrays\n",
    "\n",
    "arr1=np.array([1,2,3])\n",
    "arr2=np.array([7,8,9])\n",
    "arr3=np.array([4,5,6])\n",
    "\n",
    "arr4=np.concatenate((arr1,arr2),axis=0)\n",
    "print(arr4)\n",
    "\n",
    "arr4=arr4.reshape((2,3))\n",
    "arr3=arr3.reshape((1,3))\n",
    "\n",
    "arr5=np.concatenate((arr3,arr4),axis=0)\n",
    "\n",
    "print(arr5)"
   ]
  },
  {
   "cell_type": "markdown",
   "id": "f5d6de68",
   "metadata": {},
   "source": [
    "# searching in arrays"
   ]
  },
  {
   "cell_type": "code",
   "execution_count": 48,
   "id": "73785188",
   "metadata": {},
   "outputs": [
    {
     "name": "stdout",
     "output_type": "stream",
     "text": [
      "(array([5, 6, 7], dtype=int64),)\n",
      "<class 'tuple'>\n",
      "1\n"
     ]
    }
   ],
   "source": [
    "# using where method which returns the index positions\n",
    "\n",
    "a=np.array([1,2,2,3,45,67,67,67,88,8])\n",
    "b=np.where(a==67)\n",
    "print(b)\n",
    "print(type(b))\n",
    "print(len(b))"
   ]
  },
  {
   "cell_type": "code",
   "execution_count": 50,
   "id": "d70b53bd",
   "metadata": {},
   "outputs": [
    {
     "name": "stdout",
     "output_type": "stream",
     "text": [
      "(array([4, 5, 6, 7, 8], dtype=int64),)\n"
     ]
    }
   ],
   "source": [
    "c=np.where(a>8)\n",
    "print(c)"
   ]
  },
  {
   "cell_type": "markdown",
   "id": "27373786",
   "metadata": {},
   "source": [
    "# Random number generation in numpy"
   ]
  },
  {
   "cell_type": "code",
   "execution_count": 53,
   "id": "fc19bc07",
   "metadata": {},
   "outputs": [],
   "source": [
    "from numpy import random"
   ]
  },
  {
   "cell_type": "code",
   "execution_count": 54,
   "id": "77f00b6e",
   "metadata": {},
   "outputs": [
    {
     "name": "stdout",
     "output_type": "stream",
     "text": [
      "[[22 19 29]\n",
      " [27 23 31]]\n",
      "(2, 3)\n",
      "int32\n"
     ]
    }
   ],
   "source": [
    "x=random.randint(12,35,(2,3))\n",
    "\n",
    "print(x)\n",
    "print(x.shape)\n",
    "print(x.dtype)"
   ]
  },
  {
   "cell_type": "code",
   "execution_count": 55,
   "id": "ecb1800e",
   "metadata": {},
   "outputs": [
    {
     "name": "stdout",
     "output_type": "stream",
     "text": [
      "[[0.92995884 0.5982805  0.90188292 0.54712841]\n",
      " [0.30058024 0.62654892 0.26657353 0.61124291]\n",
      " [0.46289365 0.42743644 0.62766847 0.80593757]\n",
      " [0.70486384 0.09070294 0.12466467 0.22112533]]\n"
     ]
    }
   ],
   "source": [
    "#to generate ramdom numbers between zero and 1\n",
    "\n",
    "x=random.rand(4,4)\n",
    "print(x)"
   ]
  },
  {
   "cell_type": "markdown",
   "id": "d400b6a6",
   "metadata": {},
   "source": [
    "# Mathematical function"
   ]
  },
  {
   "cell_type": "code",
   "execution_count": 56,
   "id": "465e8fcd",
   "metadata": {},
   "outputs": [],
   "source": [
    "c=np.array([1,2,3])\n",
    "d=np.array([2,3,4])\n",
    "multiplied=np.multiply(c,d)\n",
    "added=np.add(c,d)\n",
    "subtract=np.subtract(c,d)\n",
    "devided=np.divide(c,d)\n"
   ]
  },
  {
   "cell_type": "code",
   "execution_count": 57,
   "id": "06704b69",
   "metadata": {},
   "outputs": [
    {
     "name": "stdout",
     "output_type": "stream",
     "text": [
      "[ 2  6 12]\n",
      "[3 5 7]\n",
      "[-1 -1 -1]\n",
      "[0.5        0.66666667 0.75      ]\n"
     ]
    }
   ],
   "source": [
    "print(multiplied)\n",
    "print(added)\n",
    "print(subtract)\n",
    "print(devided)\n"
   ]
  },
  {
   "cell_type": "code",
   "execution_count": 58,
   "id": "17cb850a",
   "metadata": {},
   "outputs": [
    {
     "name": "stdout",
     "output_type": "stream",
     "text": [
      "[[6]]\n",
      "(1, 1)\n"
     ]
    }
   ],
   "source": [
    "# we can also perform matrix multiplication\n",
    "\n",
    "x=random.randint(1,3,(1,3))\n",
    "y=random.randint(1,3,(3,1))\n",
    "z=np.dot(x,y)\n",
    "print(z)\n",
    "print(z.shape)"
   ]
  },
  {
   "cell_type": "markdown",
   "id": "6146c03f",
   "metadata": {},
   "source": [
    "# there are so many statstical function which we can use"
   ]
  },
  {
   "cell_type": "code",
   "execution_count": 59,
   "id": "6829e982",
   "metadata": {},
   "outputs": [],
   "source": [
    "a=np.array([1,2,2,3,4,23,54,66,77,66,78,12])"
   ]
  },
  {
   "cell_type": "code",
   "execution_count": 66,
   "id": "456cdec7",
   "metadata": {},
   "outputs": [
    {
     "name": "stdout",
     "output_type": "stream",
     "text": [
      "32.333333333333336\n",
      "17.5\n",
      "78\n",
      "983.5555555555557\n",
      "1\n",
      "31.361689296904203\n"
     ]
    }
   ],
   "source": [
    "print(a.mean())\n",
    "print(np.median(a))\n",
    "print(np.max(a))\n",
    "print(np.var(a))\n",
    "print(np.min(a))\n",
    "print(np.std(a))"
   ]
  },
  {
   "cell_type": "code",
   "execution_count": 67,
   "id": "2adbad84",
   "metadata": {},
   "outputs": [],
   "source": [
    "# there are many more things you can do using numpy\n"
   ]
  },
  {
   "cell_type": "markdown",
   "id": "54d361a9",
   "metadata": {},
   "source": [
    "# Keep exploring!!"
   ]
  }
 ],
 "metadata": {
  "kernelspec": {
   "display_name": "Python 3 (ipykernel)",
   "language": "python",
   "name": "python3"
  },
  "language_info": {
   "codemirror_mode": {
    "name": "ipython",
    "version": 3
   },
   "file_extension": ".py",
   "mimetype": "text/x-python",
   "name": "python",
   "nbconvert_exporter": "python",
   "pygments_lexer": "ipython3",
   "version": "3.9.7"
  }
 },
 "nbformat": 4,
 "nbformat_minor": 5
}
