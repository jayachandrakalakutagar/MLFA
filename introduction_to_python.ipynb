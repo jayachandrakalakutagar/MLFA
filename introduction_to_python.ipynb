{
 "cells": [
  {
   "cell_type": "code",
   "execution_count": 1,
   "id": "72517266",
   "metadata": {},
   "outputs": [],
   "source": [
    "import numpy as np"
   ]
  },
  {
   "cell_type": "code",
   "execution_count": 3,
   "id": "b79aa9a5",
   "metadata": {},
   "outputs": [],
   "source": [
    "mylist=[1,\"b\",\"orange\"]"
   ]
  },
  {
   "cell_type": "code",
   "execution_count": 4,
   "id": "afd6083f",
   "metadata": {},
   "outputs": [
    {
     "name": "stdout",
     "output_type": "stream",
     "text": [
      "3\n"
     ]
    }
   ],
   "source": [
    "print(len(mylist))"
   ]
  },
  {
   "cell_type": "code",
   "execution_count": 5,
   "id": "a7c5bea2",
   "metadata": {},
   "outputs": [
    {
     "name": "stdout",
     "output_type": "stream",
     "text": [
      "1\n"
     ]
    }
   ],
   "source": [
    "print(mylist[0])"
   ]
  },
  {
   "cell_type": "code",
   "execution_count": 6,
   "id": "175282a1",
   "metadata": {},
   "outputs": [
    {
     "name": "stdout",
     "output_type": "stream",
     "text": [
      "[1, 'b']\n"
     ]
    }
   ],
   "source": [
    "print(mylist[0:2])"
   ]
  },
  {
   "cell_type": "code",
   "execution_count": 10,
   "id": "4aff1722",
   "metadata": {},
   "outputs": [
    {
     "name": "stdout",
     "output_type": "stream",
     "text": [
      "[1, 'b', 'orange']\n"
     ]
    }
   ],
   "source": [
    "print(mylist[0:])"
   ]
  },
  {
   "cell_type": "code",
   "execution_count": 11,
   "id": "d3107539",
   "metadata": {},
   "outputs": [
    {
     "name": "stdout",
     "output_type": "stream",
     "text": [
      "['orange', 'banana', 'pineapple', 1, 2, 3]\n"
     ]
    }
   ],
   "source": [
    "#concatenate\n",
    "\n",
    "list1=[\"orange\",\"banana\",\"pineapple\"]\n",
    "list2=[1,2,3]\n",
    "concated=list1+list2\n",
    "print(concated)"
   ]
  },
  {
   "cell_type": "code",
   "execution_count": 12,
   "id": "bd7fe3e5",
   "metadata": {},
   "outputs": [
    {
     "data": {
      "text/plain": [
       "['orange', 'banana', 'pineapple', 1, 2, 3]"
      ]
     },
     "execution_count": 12,
     "metadata": {},
     "output_type": "execute_result"
    }
   ],
   "source": [
    "concated"
   ]
  },
  {
   "cell_type": "markdown",
   "id": "fe0abd57",
   "metadata": {},
   "source": [
    "Some bulit in methods"
   ]
  },
  {
   "cell_type": "code",
   "execution_count": 13,
   "id": "3eebbc92",
   "metadata": {},
   "outputs": [
    {
     "name": "stdout",
     "output_type": "stream",
     "text": [
      "['orange', 'banana', 'pineapple', 'apple']\n"
     ]
    }
   ],
   "source": [
    "thislist=[\"orange\",\"banana\",\"pineapple\"]\n",
    "\n",
    "thislist.append(\"apple\")\n",
    "\n",
    "print(thislist)"
   ]
  },
  {
   "cell_type": "code",
   "execution_count": 19,
   "id": "23999362",
   "metadata": {},
   "outputs": [
    {
     "name": "stdout",
     "output_type": "stream",
     "text": [
      "['apple', 'orange', 'banana', 'pineapple']\n"
     ]
    }
   ],
   "source": [
    "thislist=[\"orange\",\"banana\",\"pineapple\"]\n",
    "thislist.insert(0,\"apple\")\n",
    "print(thislist)"
   ]
  },
  {
   "cell_type": "code",
   "execution_count": 20,
   "id": "9abf4a0c",
   "metadata": {},
   "outputs": [],
   "source": [
    "#remove function\n",
    "\n",
    "thislist.remove(\"banana\")"
   ]
  },
  {
   "cell_type": "code",
   "execution_count": 21,
   "id": "00de975f",
   "metadata": {},
   "outputs": [
    {
     "name": "stdout",
     "output_type": "stream",
     "text": [
      "['apple', 'orange', 'pineapple']\n"
     ]
    }
   ],
   "source": [
    "print(thislist)"
   ]
  },
  {
   "cell_type": "code",
   "execution_count": 22,
   "id": "3bfd5f23",
   "metadata": {},
   "outputs": [
    {
     "data": {
      "text/plain": [
       "'orange'"
      ]
     },
     "execution_count": 22,
     "metadata": {},
     "output_type": "execute_result"
    }
   ],
   "source": [
    "thislist.pop(-2)"
   ]
  },
  {
   "cell_type": "code",
   "execution_count": 23,
   "id": "d1ed4e9e",
   "metadata": {},
   "outputs": [
    {
     "name": "stdout",
     "output_type": "stream",
     "text": [
      "['apple', 'pineapple']\n"
     ]
    }
   ],
   "source": [
    "print(thislist)"
   ]
  },
  {
   "cell_type": "code",
   "execution_count": 24,
   "id": "f43192da",
   "metadata": {},
   "outputs": [
    {
     "name": "stdout",
     "output_type": "stream",
     "text": [
      "['apple', 'orange', 'pineapple']\n"
     ]
    }
   ],
   "source": [
    "#removes 1st apperence only\n",
    "\n",
    "thislist=[\"apple\",\"apple\",\"orange\",\"pineapple\"]\n",
    "thislist.remove(\"apple\")\n",
    "print(thislist)"
   ]
  },
  {
   "cell_type": "code",
   "execution_count": 25,
   "id": "f85e056b",
   "metadata": {},
   "outputs": [],
   "source": [
    "thislist.clear()"
   ]
  },
  {
   "cell_type": "code",
   "execution_count": 27,
   "id": "70b3fbf6",
   "metadata": {},
   "outputs": [
    {
     "name": "stdout",
     "output_type": "stream",
     "text": [
      "0\n"
     ]
    }
   ],
   "source": [
    "print(len(thislist))"
   ]
  },
  {
   "cell_type": "code",
   "execution_count": 29,
   "id": "52c9d73b",
   "metadata": {},
   "outputs": [
    {
     "name": "stdout",
     "output_type": "stream",
     "text": [
      "['jaya', 'chandra', 'ramesh']\n"
     ]
    }
   ],
   "source": [
    "thislist=[\"jaya\",\"chandra\",\"ramesh\"]\n",
    "x=thislist.copy()\n",
    "print(x)"
   ]
  },
  {
   "cell_type": "code",
   "execution_count": 32,
   "id": "a0324452",
   "metadata": {},
   "outputs": [
    {
     "data": {
      "text/plain": [
       "2"
      ]
     },
     "execution_count": 32,
     "metadata": {},
     "output_type": "execute_result"
    }
   ],
   "source": [
    "fruits=[\"apple\",\"apple\",\"banana\",\"apple\",\"banana\",\"pineapple\"]\n",
    "\n",
    "fruits.count(\"banana\")"
   ]
  },
  {
   "cell_type": "code",
   "execution_count": 33,
   "id": "604342f0",
   "metadata": {},
   "outputs": [
    {
     "data": {
      "text/plain": [
       "0"
      ]
     },
     "execution_count": 33,
     "metadata": {},
     "output_type": "execute_result"
    }
   ],
   "source": [
    "fruits.index(\"apple\")"
   ]
  },
  {
   "cell_type": "code",
   "execution_count": 34,
   "id": "6327975d",
   "metadata": {},
   "outputs": [
    {
     "name": "stdout",
     "output_type": "stream",
     "text": [
      "['pineapple', 'banana', 'apple', 'banana', 'apple', 'apple']\n"
     ]
    }
   ],
   "source": [
    "fruits.reverse()\n",
    "\n",
    "print(fruits)"
   ]
  },
  {
   "cell_type": "code",
   "execution_count": 35,
   "id": "995f7afd",
   "metadata": {},
   "outputs": [
    {
     "name": "stdout",
     "output_type": "stream",
     "text": [
      "['apple', 'apple', 'apple', 'banana', 'banana', 'pineapple']\n"
     ]
    }
   ],
   "source": [
    "fruits.sort()\n",
    "\n",
    "print(fruits)"
   ]
  },
  {
   "cell_type": "markdown",
   "id": "b2ab809c",
   "metadata": {},
   "source": [
    "# tuples\n",
    "\n",
    "#### ordered and immutable"
   ]
  },
  {
   "cell_type": "code",
   "execution_count": 36,
   "id": "36ddd1e2",
   "metadata": {},
   "outputs": [],
   "source": [
    "tuple1=(\"ondu\",\"eradu\",\"muru\",1,2,3)"
   ]
  },
  {
   "cell_type": "code",
   "execution_count": 37,
   "id": "a97b3fbd",
   "metadata": {},
   "outputs": [
    {
     "data": {
      "text/plain": [
       "1"
      ]
     },
     "execution_count": 37,
     "metadata": {},
     "output_type": "execute_result"
    }
   ],
   "source": [
    "tuple1.count(\"ondu\")"
   ]
  },
  {
   "cell_type": "code",
   "execution_count": 38,
   "id": "df0771e4",
   "metadata": {},
   "outputs": [
    {
     "name": "stdout",
     "output_type": "stream",
     "text": [
      "3\n"
     ]
    }
   ],
   "source": [
    "tuple1=(\"9\",\"3\",\"5\",\"3\",\"9\",\"8\",\"4\",\"0\",\"1\",\"9\")\n",
    "\n",
    "print(tuple1.count(\"9\"))"
   ]
  },
  {
   "cell_type": "code",
   "execution_count": 39,
   "id": "2643bbb5",
   "metadata": {},
   "outputs": [
    {
     "name": "stdout",
     "output_type": "stream",
     "text": [
      "6\n"
     ]
    }
   ],
   "source": [
    "print(tuple1.index(\"4\"))"
   ]
  },
  {
   "cell_type": "code",
   "execution_count": 42,
   "id": "7809891d",
   "metadata": {},
   "outputs": [
    {
     "name": "stdout",
     "output_type": "stream",
     "text": [
      "('9', '3', '5', '3', '9', '8', '4', '0', '1', '9', 1, 2, 3)\n"
     ]
    }
   ],
   "source": [
    "tuple1=(\"9\",\"3\",\"5\",\"3\",\"9\",\"8\",\"4\",\"0\",\"1\",\"9\")\n",
    "tuple1=tuple1+(1,2,3)\n",
    "print(tuple1)"
   ]
  },
  {
   "cell_type": "markdown",
   "id": "bf6db57e",
   "metadata": {},
   "source": [
    "# sets\n",
    "##### unordered and changable"
   ]
  },
  {
   "cell_type": "code",
   "execution_count": 43,
   "id": "2f2d795f",
   "metadata": {},
   "outputs": [
    {
     "name": "stdout",
     "output_type": "stream",
     "text": [
      "{'5', '1', '9', '8', '4', '3', '0'}\n"
     ]
    }
   ],
   "source": [
    "set1={\"9\",\"3\",\"5\",\"3\",\"9\",\"8\",\"4\",\"0\",\"1\",\"9\"}\n",
    "print(set1)"
   ]
  },
  {
   "cell_type": "code",
   "execution_count": 44,
   "id": "a2b6167c",
   "metadata": {},
   "outputs": [],
   "source": [
    "# note that set stores only the unique values"
   ]
  },
  {
   "cell_type": "code",
   "execution_count": 56,
   "id": "4d0fb16f",
   "metadata": {},
   "outputs": [
    {
     "name": "stdout",
     "output_type": "stream",
     "text": [
      "{'5', '1', '9', '8', '4', '3', '0'}\n"
     ]
    }
   ],
   "source": [
    "print(set1)"
   ]
  },
  {
   "cell_type": "code",
   "execution_count": 57,
   "id": "3abe3f55",
   "metadata": {},
   "outputs": [
    {
     "name": "stdout",
     "output_type": "stream",
     "text": [
      "{'5', '1', '9', '8', '4', '7', '3', '0'}\n"
     ]
    }
   ],
   "source": [
    "#ading something to the list\n",
    "\n",
    "set1.add(\"7\")\n",
    "print(set1)"
   ]
  },
  {
   "cell_type": "code",
   "execution_count": 58,
   "id": "ad8a3830",
   "metadata": {},
   "outputs": [
    {
     "name": "stdout",
     "output_type": "stream",
     "text": [
      "{'5', '1', '9', '8', '4', '3', '0'}\n"
     ]
    }
   ],
   "source": [
    "#use  tab and shift+tab to know the inbuilt function of any datastructure\n",
    "set1.remove(\"7\")\n",
    "print(set1)"
   ]
  },
  {
   "cell_type": "code",
   "execution_count": 60,
   "id": "440ba4a4",
   "metadata": {},
   "outputs": [
    {
     "name": "stdout",
     "output_type": "stream",
     "text": [
      "{'5', '1', '9', '8', '4', '3', '0'}\n"
     ]
    }
   ],
   "source": [
    "set1.discard(\"2\")\n",
    "print(set1)"
   ]
  },
  {
   "cell_type": "code",
   "execution_count": 61,
   "id": "6492343f",
   "metadata": {},
   "outputs": [],
   "source": [
    "set10=set1.union((\"9\",\"3\",\"7\",\"2\",\"6\",\"10\") )"
   ]
  },
  {
   "cell_type": "code",
   "execution_count": 62,
   "id": "3f96d4bb",
   "metadata": {},
   "outputs": [
    {
     "name": "stdout",
     "output_type": "stream",
     "text": [
      "{'7', '0', '5', '6', '9', '2', '8', '4', '3', '1', '10'}\n"
     ]
    }
   ],
   "source": [
    "print(set10)"
   ]
  },
  {
   "cell_type": "code",
   "execution_count": 63,
   "id": "7cdd54b6",
   "metadata": {},
   "outputs": [
    {
     "name": "stdout",
     "output_type": "stream",
     "text": [
      "{'12', '11', '7', '0', '5', '6', '9', '2', '8', '4', '3', '1', '10'}\n"
     ]
    }
   ],
   "source": [
    "set10.update((\"11\",\"12\"))\n",
    "print(set10)"
   ]
  },
  {
   "cell_type": "markdown",
   "id": "258aad04",
   "metadata": {},
   "source": [
    "# Dictionary\n",
    "\n",
    "#### unordered and mutable"
   ]
  },
  {
   "cell_type": "code",
   "execution_count": 64,
   "id": "04387fd5",
   "metadata": {},
   "outputs": [],
   "source": [
    "dictionary={\"name\":\"jayachandra\",\"midname\":\"ramesh\",\"sirname\":\"kalakutagar\"}"
   ]
  },
  {
   "cell_type": "code",
   "execution_count": 66,
   "id": "b83642b8",
   "metadata": {},
   "outputs": [
    {
     "name": "stdout",
     "output_type": "stream",
     "text": [
      "<class 'str'>\n"
     ]
    }
   ],
   "source": [
    "name=dictionary[\"name\"]\n",
    "print(type(name))"
   ]
  },
  {
   "cell_type": "code",
   "execution_count": 67,
   "id": "4c4fb75b",
   "metadata": {},
   "outputs": [
    {
     "data": {
      "text/plain": [
       "'ramesh'"
      ]
     },
     "execution_count": 67,
     "metadata": {},
     "output_type": "execute_result"
    }
   ],
   "source": [
    "dictionary.get(\"midname\")"
   ]
  },
  {
   "cell_type": "code",
   "execution_count": 68,
   "id": "91ff619d",
   "metadata": {},
   "outputs": [
    {
     "name": "stdout",
     "output_type": "stream",
     "text": [
      "dict_keys(['name', 'midname', 'sirname'])\n"
     ]
    }
   ],
   "source": [
    "print(dictionary.keys())"
   ]
  },
  {
   "cell_type": "code",
   "execution_count": 69,
   "id": "4b47c6aa",
   "metadata": {},
   "outputs": [
    {
     "name": "stdout",
     "output_type": "stream",
     "text": [
      "dict_values(['jayachandra', 'ramesh', 'kalakutagar'])\n"
     ]
    }
   ],
   "source": [
    "print(dictionary.values())"
   ]
  },
  {
   "cell_type": "code",
   "execution_count": 70,
   "id": "b30d4978",
   "metadata": {},
   "outputs": [
    {
     "name": "stdout",
     "output_type": "stream",
     "text": [
      "dict_items([('name', 'jayachandra'), ('midname', 'ramesh'), ('sirname', 'kalakutagar')])\n"
     ]
    }
   ],
   "source": [
    "print(dictionary.items())"
   ]
  },
  {
   "cell_type": "code",
   "execution_count": 71,
   "id": "f81765de",
   "metadata": {},
   "outputs": [],
   "source": [
    "dictionary[\"age\"]=19"
   ]
  },
  {
   "cell_type": "code",
   "execution_count": 72,
   "id": "5000a07c",
   "metadata": {},
   "outputs": [
    {
     "name": "stdout",
     "output_type": "stream",
     "text": [
      "{'name': 'jayachandra', 'midname': 'ramesh', 'sirname': 'kalakutagar', 'age': 19}\n"
     ]
    }
   ],
   "source": [
    "print(dictionary)"
   ]
  },
  {
   "cell_type": "code",
   "execution_count": 73,
   "id": "f01ade72",
   "metadata": {},
   "outputs": [],
   "source": [
    "dictionary.update({\"age\":20})"
   ]
  },
  {
   "cell_type": "code",
   "execution_count": 74,
   "id": "940a41a2",
   "metadata": {},
   "outputs": [
    {
     "name": "stdout",
     "output_type": "stream",
     "text": [
      "{'name': 'jayachandra', 'midname': 'ramesh', 'sirname': 'kalakutagar', 'age': 20}\n"
     ]
    }
   ],
   "source": [
    "print(dictionary)"
   ]
  },
  {
   "cell_type": "code",
   "execution_count": 76,
   "id": "8600759e",
   "metadata": {},
   "outputs": [
    {
     "data": {
      "text/plain": [
       "('age', 20)"
      ]
     },
     "execution_count": 76,
     "metadata": {},
     "output_type": "execute_result"
    }
   ],
   "source": [
    "dictionary.popitem()"
   ]
  },
  {
   "cell_type": "code",
   "execution_count": 77,
   "id": "8c1a4835",
   "metadata": {},
   "outputs": [],
   "source": [
    "dictionary.clear()"
   ]
  },
  {
   "cell_type": "code",
   "execution_count": 78,
   "id": "b6e98a10",
   "metadata": {},
   "outputs": [
    {
     "name": "stdout",
     "output_type": "stream",
     "text": [
      "{}\n"
     ]
    }
   ],
   "source": [
    "print(dictionary)"
   ]
  }
 ],
 "metadata": {
  "kernelspec": {
   "display_name": "Python 3 (ipykernel)",
   "language": "python",
   "name": "python3"
  },
  "language_info": {
   "codemirror_mode": {
    "name": "ipython",
    "version": 3
   },
   "file_extension": ".py",
   "mimetype": "text/x-python",
   "name": "python",
   "nbconvert_exporter": "python",
   "pygments_lexer": "ipython3",
   "version": "3.9.7"
  }
 },
 "nbformat": 4,
 "nbformat_minor": 5
}
